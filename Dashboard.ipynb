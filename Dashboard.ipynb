{
 "cells": [
  {
   "cell_type": "code",
   "execution_count": 1,
   "id": "90dc7885",
   "metadata": {},
   "outputs": [
    {
     "data": {
      "text/html": [
       "\n",
       "        <iframe\n",
       "            width=\"100%\"\n",
       "            height=\"650\"\n",
       "            src=\"http://127.0.0.1:8050/\"\n",
       "            frameborder=\"0\"\n",
       "            allowfullscreen\n",
       "            \n",
       "        ></iframe>\n",
       "        "
      ],
      "text/plain": [
       "<IPython.lib.display.IFrame at 0x2509a0e9990>"
      ]
     },
     "metadata": {},
     "output_type": "display_data"
    }
   ],
   "source": [
    "import dash\n",
    "from dash import dcc, html\n",
    "import plotly.express as px\n",
    "import pandas as pd\n",
    "\n",
    "# Load data\n",
    "df = pd.read_csv(\"telecom_churn.csv\")\n",
    "df['date_of_registration'] = pd.to_datetime(df['date_of_registration'])\n",
    "df['tenure_days'] = (pd.Timestamp.today() - df['date_of_registration']).dt.days\n",
    "df['tenure_months'] = df['tenure_days'] // 30\n",
    "df['age_group'] = pd.cut(df['age'], bins=[0, 25, 35, 45, 60, 100],\n",
    "                         labels=[\"<25\", \"25-34\", \"35-44\", \"45-59\", \"60+\"])\n",
    "\n",
    "# Precomputed figures\n",
    "fig1 = px.histogram(df, x='telecom_partner', color='gender', barmode='group',\n",
    "                    title='Gender Distribution Across Telecom Partners')\n",
    "\n",
    "state_usage = df.groupby('state')['data_used'].mean().reset_index()\n",
    "fig2 = px.bar(state_usage, x='state', y='data_used',\n",
    "              title='Average Data Usage by State')\n",
    "\n",
    "fig3 = px.box(df, x='churn', y='estimated_salary', color='churn',\n",
    "              title='Estimated Salary by Churn Status')\n",
    "\n",
    "usage_cols = ['calls_made', 'sms_sent', 'data_used']\n",
    "avg_usage = df.groupby('age_group')[usage_cols].mean().reset_index()\n",
    "fig4 = px.line(avg_usage, x='age_group', y=usage_cols, markers=True,\n",
    "               title='Average Usage Behavior by Age Group')\n",
    "\n",
    "churn_rate = df.groupby('telecom_partner')['churn'].mean().reset_index()\n",
    "fig5 = px.bar(churn_rate, x='telecom_partner', y='churn',\n",
    "              title='Churn Rate by Telecom Partner')\n",
    "\n",
    "tenure_churn = df.groupby('tenure_months')['churn'].mean().reset_index()\n",
    "fig6 = px.line(tenure_churn, x='tenure_months', y='churn',\n",
    "               title='Churn Rate Over Customer Tenure')\n",
    "\n",
    "# Dash App\n",
    "app = dash.Dash(__name__)\n",
    "app.layout = html.Div([\n",
    "    html.H1(\"Telecom Customer Churn Analysis Dashboard\"),\n",
    "    dcc.Tabs([\n",
    "        dcc.Tab(label='Gender Distribution', children=[dcc.Graph(figure=fig1)]),\n",
    "        dcc.Tab(label='Data Usage by State', children=[dcc.Graph(figure=fig2)]),\n",
    "        dcc.Tab(label='Salary vs Churn', children=[dcc.Graph(figure=fig3)]),\n",
    "        dcc.Tab(label='Usage by Age Group', children=[dcc.Graph(figure=fig4)]),\n",
    "        dcc.Tab(label='Churn by Partner', children=[dcc.Graph(figure=fig5)]),\n",
    "        dcc.Tab(label='Churn Over Tenure', children=[dcc.Graph(figure=fig6)])\n",
    "    ])\n",
    "])\n",
    "\n",
    "if __name__ == '__main__':\n",
    "    app.run(debug=True)\n"
   ]
  },
  {
   "cell_type": "code",
   "execution_count": null,
   "id": "6493121d",
   "metadata": {},
   "outputs": [],
   "source": []
  }
 ],
 "metadata": {
  "kernelspec": {
   "display_name": "Python 3 (ipykernel)",
   "language": "python",
   "name": "python3"
  },
  "language_info": {
   "codemirror_mode": {
    "name": "ipython",
    "version": 3
   },
   "file_extension": ".py",
   "mimetype": "text/x-python",
   "name": "python",
   "nbconvert_exporter": "python",
   "pygments_lexer": "ipython3",
   "version": "3.11.5"
  }
 },
 "nbformat": 4,
 "nbformat_minor": 5
}
